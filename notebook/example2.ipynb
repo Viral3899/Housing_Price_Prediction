{
 "cells": [
  {
   "cell_type": "code",
   "execution_count": 38,
   "metadata": {},
   "outputs": [],
   "source": [
    "import pandas as pd\n",
    "import numpy as np\n",
    "import matplotlib.pyplot as plt\n",
    "import seaborn as sns"
   ]
  },
  {
   "cell_type": "code",
   "execution_count": 39,
   "metadata": {},
   "outputs": [
    {
     "data": {
      "text/html": [
       "<div>\n",
       "<style scoped>\n",
       "    .dataframe tbody tr th:only-of-type {\n",
       "        vertical-align: middle;\n",
       "    }\n",
       "\n",
       "    .dataframe tbody tr th {\n",
       "        vertical-align: top;\n",
       "    }\n",
       "\n",
       "    .dataframe thead th {\n",
       "        text-align: right;\n",
       "    }\n",
       "</style>\n",
       "<table border=\"1\" class=\"dataframe\">\n",
       "  <thead>\n",
       "    <tr style=\"text-align: right;\">\n",
       "      <th></th>\n",
       "      <th>longitude</th>\n",
       "      <th>latitude</th>\n",
       "      <th>housing_median_age</th>\n",
       "      <th>total_rooms</th>\n",
       "      <th>total_bedrooms</th>\n",
       "      <th>population</th>\n",
       "      <th>households</th>\n",
       "      <th>median_income</th>\n",
       "      <th>median_house_value</th>\n",
       "      <th>ocean_proximity</th>\n",
       "    </tr>\n",
       "  </thead>\n",
       "  <tbody>\n",
       "    <tr>\n",
       "      <th>0</th>\n",
       "      <td>-122.23</td>\n",
       "      <td>37.88</td>\n",
       "      <td>41.0</td>\n",
       "      <td>880.0</td>\n",
       "      <td>129.0</td>\n",
       "      <td>322.0</td>\n",
       "      <td>126.0</td>\n",
       "      <td>8.3252</td>\n",
       "      <td>452600.0</td>\n",
       "      <td>NEAR BAY</td>\n",
       "    </tr>\n",
       "    <tr>\n",
       "      <th>1</th>\n",
       "      <td>-122.22</td>\n",
       "      <td>37.86</td>\n",
       "      <td>21.0</td>\n",
       "      <td>7099.0</td>\n",
       "      <td>1106.0</td>\n",
       "      <td>2401.0</td>\n",
       "      <td>1138.0</td>\n",
       "      <td>8.3014</td>\n",
       "      <td>358500.0</td>\n",
       "      <td>NEAR BAY</td>\n",
       "    </tr>\n",
       "    <tr>\n",
       "      <th>2</th>\n",
       "      <td>-122.24</td>\n",
       "      <td>37.85</td>\n",
       "      <td>52.0</td>\n",
       "      <td>1467.0</td>\n",
       "      <td>190.0</td>\n",
       "      <td>496.0</td>\n",
       "      <td>177.0</td>\n",
       "      <td>7.2574</td>\n",
       "      <td>352100.0</td>\n",
       "      <td>NEAR BAY</td>\n",
       "    </tr>\n",
       "    <tr>\n",
       "      <th>3</th>\n",
       "      <td>-122.25</td>\n",
       "      <td>37.85</td>\n",
       "      <td>52.0</td>\n",
       "      <td>1274.0</td>\n",
       "      <td>235.0</td>\n",
       "      <td>558.0</td>\n",
       "      <td>219.0</td>\n",
       "      <td>5.6431</td>\n",
       "      <td>341300.0</td>\n",
       "      <td>NEAR BAY</td>\n",
       "    </tr>\n",
       "    <tr>\n",
       "      <th>4</th>\n",
       "      <td>-122.25</td>\n",
       "      <td>37.85</td>\n",
       "      <td>52.0</td>\n",
       "      <td>1627.0</td>\n",
       "      <td>280.0</td>\n",
       "      <td>565.0</td>\n",
       "      <td>259.0</td>\n",
       "      <td>3.8462</td>\n",
       "      <td>342200.0</td>\n",
       "      <td>NEAR BAY</td>\n",
       "    </tr>\n",
       "    <tr>\n",
       "      <th>...</th>\n",
       "      <td>...</td>\n",
       "      <td>...</td>\n",
       "      <td>...</td>\n",
       "      <td>...</td>\n",
       "      <td>...</td>\n",
       "      <td>...</td>\n",
       "      <td>...</td>\n",
       "      <td>...</td>\n",
       "      <td>...</td>\n",
       "      <td>...</td>\n",
       "    </tr>\n",
       "    <tr>\n",
       "      <th>20635</th>\n",
       "      <td>-121.09</td>\n",
       "      <td>39.48</td>\n",
       "      <td>25.0</td>\n",
       "      <td>1665.0</td>\n",
       "      <td>374.0</td>\n",
       "      <td>845.0</td>\n",
       "      <td>330.0</td>\n",
       "      <td>1.5603</td>\n",
       "      <td>78100.0</td>\n",
       "      <td>INLAND</td>\n",
       "    </tr>\n",
       "    <tr>\n",
       "      <th>20636</th>\n",
       "      <td>-121.21</td>\n",
       "      <td>39.49</td>\n",
       "      <td>18.0</td>\n",
       "      <td>697.0</td>\n",
       "      <td>150.0</td>\n",
       "      <td>356.0</td>\n",
       "      <td>114.0</td>\n",
       "      <td>2.5568</td>\n",
       "      <td>77100.0</td>\n",
       "      <td>INLAND</td>\n",
       "    </tr>\n",
       "    <tr>\n",
       "      <th>20637</th>\n",
       "      <td>-121.22</td>\n",
       "      <td>39.43</td>\n",
       "      <td>17.0</td>\n",
       "      <td>2254.0</td>\n",
       "      <td>485.0</td>\n",
       "      <td>1007.0</td>\n",
       "      <td>433.0</td>\n",
       "      <td>1.7000</td>\n",
       "      <td>92300.0</td>\n",
       "      <td>INLAND</td>\n",
       "    </tr>\n",
       "    <tr>\n",
       "      <th>20638</th>\n",
       "      <td>-121.32</td>\n",
       "      <td>39.43</td>\n",
       "      <td>18.0</td>\n",
       "      <td>1860.0</td>\n",
       "      <td>409.0</td>\n",
       "      <td>741.0</td>\n",
       "      <td>349.0</td>\n",
       "      <td>1.8672</td>\n",
       "      <td>84700.0</td>\n",
       "      <td>INLAND</td>\n",
       "    </tr>\n",
       "    <tr>\n",
       "      <th>20639</th>\n",
       "      <td>-121.24</td>\n",
       "      <td>39.37</td>\n",
       "      <td>16.0</td>\n",
       "      <td>2785.0</td>\n",
       "      <td>616.0</td>\n",
       "      <td>1387.0</td>\n",
       "      <td>530.0</td>\n",
       "      <td>2.3886</td>\n",
       "      <td>89400.0</td>\n",
       "      <td>INLAND</td>\n",
       "    </tr>\n",
       "  </tbody>\n",
       "</table>\n",
       "<p>20640 rows × 10 columns</p>\n",
       "</div>"
      ],
      "text/plain": [
       "       longitude  latitude  housing_median_age  total_rooms  total_bedrooms  \\\n",
       "0        -122.23     37.88                41.0        880.0           129.0   \n",
       "1        -122.22     37.86                21.0       7099.0          1106.0   \n",
       "2        -122.24     37.85                52.0       1467.0           190.0   \n",
       "3        -122.25     37.85                52.0       1274.0           235.0   \n",
       "4        -122.25     37.85                52.0       1627.0           280.0   \n",
       "...          ...       ...                 ...          ...             ...   \n",
       "20635    -121.09     39.48                25.0       1665.0           374.0   \n",
       "20636    -121.21     39.49                18.0        697.0           150.0   \n",
       "20637    -121.22     39.43                17.0       2254.0           485.0   \n",
       "20638    -121.32     39.43                18.0       1860.0           409.0   \n",
       "20639    -121.24     39.37                16.0       2785.0           616.0   \n",
       "\n",
       "       population  households  median_income  median_house_value  \\\n",
       "0           322.0       126.0         8.3252            452600.0   \n",
       "1          2401.0      1138.0         8.3014            358500.0   \n",
       "2           496.0       177.0         7.2574            352100.0   \n",
       "3           558.0       219.0         5.6431            341300.0   \n",
       "4           565.0       259.0         3.8462            342200.0   \n",
       "...           ...         ...            ...                 ...   \n",
       "20635       845.0       330.0         1.5603             78100.0   \n",
       "20636       356.0       114.0         2.5568             77100.0   \n",
       "20637      1007.0       433.0         1.7000             92300.0   \n",
       "20638       741.0       349.0         1.8672             84700.0   \n",
       "20639      1387.0       530.0         2.3886             89400.0   \n",
       "\n",
       "      ocean_proximity  \n",
       "0            NEAR BAY  \n",
       "1            NEAR BAY  \n",
       "2            NEAR BAY  \n",
       "3            NEAR BAY  \n",
       "4            NEAR BAY  \n",
       "...               ...  \n",
       "20635          INLAND  \n",
       "20636          INLAND  \n",
       "20637          INLAND  \n",
       "20638          INLAND  \n",
       "20639          INLAND  \n",
       "\n",
       "[20640 rows x 10 columns]"
      ]
     },
     "execution_count": 39,
     "metadata": {},
     "output_type": "execute_result"
    }
   ],
   "source": [
    "import ssl\n",
    "ssl._create_default_https_context = ssl._create_unverified_context\n",
    "df=pd.read_csv(\"https://raw.githubusercontent.com/ageron/handson-ml/master/datasets/housing/housing.csv\")\n",
    "df"
   ]
  },
  {
   "cell_type": "code",
   "execution_count": 40,
   "metadata": {},
   "outputs": [
    {
     "data": {
      "text/plain": [
       "<AxesSubplot:xlabel='median_income', ylabel='Count'>"
      ]
     },
     "execution_count": 40,
     "metadata": {},
     "output_type": "execute_result"
    },
    {
     "data": {
      "image/png": "[encoded data removed]",
      "text/plain": [
       "<Figure size 640x480 with 1 Axes>"
      ]
     },
     "metadata": {},
     "output_type": "display_data"
    }
   ],
   "source": [
    "sns.histplot(df['median_income'])"
   ]
  },
  {
   "cell_type": "code",
   "execution_count": 1,
   "metadata": {},
   "outputs": [
    {
     "data": {
      "text/plain": [
       "GradientBoostingRegressor()"
      ]
     },
     "execution_count": 1,
     "metadata": {},
     "output_type": "execute_result"
    }
   ],
   "source": [
    "from housing.util.util import load_object\n",
    "\n",
    "model = load_object(file_path='/home/admin/Desktop/project_task_extra/Project/Housing_Price_Prediction/saved_models/20230404183912/model.pkl')\n",
    "model"
   ]
  },
  {
   "cell_type": "code",
   "execution_count": 4,
   "metadata": {},
   "outputs": [
    {
     "data": {
      "text/plain": [
       "ColumnTransformer(transformers=[('num_pipeline',\n",
       "                                 Pipeline(steps=[('impute',\n",
       "                                                  SimpleImputer(strategy='median')),\n",
       "                                                 ('feature_generator',\n",
       "                                                  FeatureGenerator(columns=['longitude',\n",
       "                                                                            'latitude',\n",
       "                                                                            'housing_median_age',\n",
       "                                                                            'total_rooms',\n",
       "                                                                            'total_bedrooms',\n",
       "                                                                            'population',\n",
       "                                                                            'households',\n",
       "                                                                            'median_income'])),\n",
       "                                                 ('scaler', StandardScaler())]),\n",
       "                                 ['longitude', 'latitude', 'housing_median_age',\n",
       "                                  'total_rooms', 'total_bedrooms', 'population',\n",
       "                                  'households', 'median_income']),\n",
       "                                ('cat_pipeline',\n",
       "                                 Pipeline(steps=[('impute',\n",
       "                                                  SimpleImputer(strategy='most_frequent')),\n",
       "                                                 ('one_hot_encoder',\n",
       "                                                  OneHotEncoder()),\n",
       "                                                 ('scaler',\n",
       "                                                  StandardScaler(with_mean=False))]),\n",
       "                                 ['ocean_proximity'])])"
      ]
     },
     "execution_count": 4,
     "metadata": {},
     "output_type": "execute_result"
    }
   ],
   "source": [
    "model.preprocessing_object"
   ]
  },
  {
   "cell_type": "code",
   "execution_count": 41,
   "metadata": {},
   "outputs": [],
   "source": [
    "# df['income_category']=pd.cut(df['median_income'],bins=[0.0,1.5,3.0,4.5,6.0,np.inf],labels=[1,2,3,4,5,])"
   ]
  },
  {
   "cell_type": "code",
   "execution_count": 42,
   "metadata": {},
   "outputs": [],
   "source": [
    "# df['income_category'].hist()"
   ]
  },
  {
   "cell_type": "code",
   "execution_count": 43,
   "metadata": {},
   "outputs": [],
   "source": [
    "# sns.histplot(df['median_income'],kde=True)\n",
    "# plt.show()\n",
    "# sns.histplot(df['income_category'])\n",
    "# plt.show()"
   ]
  },
  {
   "cell_type": "code",
   "execution_count": 44,
   "metadata": {},
   "outputs": [],
   "source": [
    "from sklearn.model_selection import StratifiedShuffleSplit"
   ]
  },
  {
   "cell_type": "code",
   "execution_count": 45,
   "metadata": {},
   "outputs": [],
   "source": [
    "# split=StratifiedShuffleSplit(n_splits=1,test_size=0.2,random_state=4)\n",
    "\n",
    "# gen=split.split(df,df['income_category'])"
   ]
  },
  {
   "cell_type": "code",
   "execution_count": 46,
   "metadata": {},
   "outputs": [],
   "source": [
    "# for i,j in gen:\n",
    "#     print(i,j)"
   ]
  },
  {
   "cell_type": "code",
   "execution_count": 47,
   "metadata": {},
   "outputs": [],
   "source": [
    "# train_df=df.loc[i]"
   ]
  },
  {
   "cell_type": "code",
   "execution_count": 48,
   "metadata": {},
   "outputs": [],
   "source": [
    "# test_df=df.loc[j]"
   ]
  },
  {
   "cell_type": "code",
   "execution_count": 49,
   "metadata": {},
   "outputs": [
    {
     "name": "stdout",
     "output_type": "stream",
     "text": [
      "DataValidationConfig(schema_file_path='d:\\\\End_to_End_Project\\\\Housing_Price_Prediction\\\\notebook\\\\config\\\\schema.yaml', report_file_path='d:\\\\End_to_End_Project\\\\Housing_Price_Prediction\\\\notebook\\\\housing\\\\artifact\\\\data_validation\\\\2023-04-01-23-22\\\\report.json', report_page_file_path='d:\\\\End_to_End_Project\\\\Housing_Price_Prediction\\\\notebook\\\\housing\\\\artifact\\\\data_validation\\\\2023-04-01-23-22\\\\report.html')\n"
     ]
    }
   ],
   "source": [
    "from housing.config.configuration import Configuration\n",
    "\n",
    "\n",
    "p = Configuration('..\\config\\config.yaml')\n",
    "\n",
    "print(p.get_data_validation_config())"
   ]
  },
  {
   "cell_type": "code",
   "execution_count": 50,
   "metadata": {},
   "outputs": [],
   "source": [
    "\n",
    "import yaml\n",
    "schema_dict = dict(zip(df.columns, df.dtypes.astype(str)))\n",
    "\n",
    "# remove the \"dtype(\" prefix from the data types\n",
    "schema_dict = {'columns': {k: v.replace('dtype(', '').replace(')', '') for k, v in schema_dict.items(\n",
    ") if k != 'median_house_value'},'numerical_columns':[col for col in df.columns if df[col].dtype != 'O'] , 'categorical_columns':[col for col in df.columns if df[col].dtype == 'O'], 'target_column': 'median_house_value', 'domain_value': {'ocean_proximity': list(df['ocean_proximity'].unique())}}\n",
    "\n",
    "# create schema dictionary with only keys and data types\n",
    "# schema = {k: type(v).__name__ for k,v in schema_dict.items()}\n",
    "\n",
    "# write schema dictionary to a YAML file\n",
    "with open('schema.yaml', 'w') as file:\n",
    "    yaml.dump(schema_dict, file)"
   ]
  },
  {
   "cell_type": "code",
   "execution_count": 51,
   "metadata": {},
   "outputs": [
    {
     "data": {
      "text/plain": [
       "{'columns': {'longitude': 'float64',\n",
       "  'latitude': 'float64',\n",
       "  'housing_median_age': 'float64',\n",
       "  'total_rooms': 'float64',\n",
       "  'total_bedrooms': 'float64',\n",
       "  'population': 'float64',\n",
       "  'households': 'float64',\n",
       "  'median_income': 'float64',\n",
       "  'ocean_proximity': 'object'},\n",
       " 'numerical_columns': ['longitude',\n",
       "  'latitude',\n",
       "  'housing_median_age',\n",
       "  'total_rooms',\n",
       "  'total_bedrooms',\n",
       "  'population',\n",
       "  'households',\n",
       "  'median_income',\n",
       "  'median_house_value'],\n",
       " 'categorical_columns': ['ocean_proximity'],\n",
       " 'target_column': 'median_house_value',\n",
       " 'domain_value': {'ocean_proximity': ['NEAR BAY',\n",
       "   '<1H OCEAN',\n",
       "   'INLAND',\n",
       "   'NEAR OCEAN',\n",
       "   'ISLAND']}}"
      ]
     },
     "execution_count": 51,
     "metadata": {},
     "output_type": "execute_result"
    }
   ],
   "source": [
    "schema_dict"
   ]
  },
  {
   "cell_type": "code",
   "execution_count": 52,
   "metadata": {},
   "outputs": [],
   "source": [
    "from housing.util.util import read_yaml_file"
   ]
  },
  {
   "cell_type": "code",
   "execution_count": 53,
   "metadata": {},
   "outputs": [],
   "source": [
    "# schema_file_path = self.data_validation_config.schema_file_path\n",
    "schema_config = read_yaml_file(\n",
    "    file_path='..\\config\\schema.yaml')\n",
    "\n",
    "train_data = pd.read_csv(r'D:\\End_to_End_Project\\Housing_Price_Prediction\\housing\\artifact\\data_ingestion\\2023-03-28-20-26\\ingested_data\\train\\housing.csv')\n",
    "\n",
    "test_data = pd.read_csv(r'D:\\End_to_End_Project\\Housing_Price_Prediction\\housing\\artifact\\data_ingestion\\2023-03-28-20-26\\ingested_data\\test\\housing.csv')\n",
    "\n",
    "schema_dict_train = dict(zip(train_data\n",
    "                             .columns, train_data.dtypes.astype(str)))\n",
    "\n",
    "schema_dict_train = {'columns': {k: v.replace('dtype(', '').replace(')', '') for k, v in schema_dict_train.items() if k != 'median_house_value'}, 'target_column': 'median_house_value', 'domain_value': {'ocean_proximity': list(train_data['ocean_proximity'].unique())}}\n",
    "\n",
    "schema_dict_test = dict(zip(test_data.columns, test_data.dtypes.astype(str)))\n",
    "\n",
    "schema_dict_test = {'columns': {k: v.replace('dtype(', '').replace(')', '') for k, v in schema_dict_test.items() if k != 'median_house_value'}, 'target_column': 'median_house_value', 'domain_value': {'ocean_proximity': list(test_data['ocean_proximity'].unique())}}"
   ]
  },
  {
   "cell_type": "code",
   "execution_count": 54,
   "metadata": {},
   "outputs": [
    {
     "data": {
      "text/plain": [
       "True"
      ]
     },
     "execution_count": 54,
     "metadata": {},
     "output_type": "execute_result"
    }
   ],
   "source": [
    "schema_config\n",
    "((schema_config['target_column']) in (train_data.columns)) and (schema_config['target_column']) in (test_data.columns) "
   ]
  },
  {
   "cell_type": "code",
   "execution_count": 55,
   "metadata": {},
   "outputs": [],
   "source": [
    "is_target_column_avilable = False\n",
    "if (schema_config['target_column'] in df) and (schema_config['target_column'] in df):\n",
    "    is_target_column_avilable = True"
   ]
  },
  {
   "cell_type": "code",
   "execution_count": 56,
   "metadata": {},
   "outputs": [],
   "source": [
    "from collections import Counter\n"
   ]
  },
  {
   "cell_type": "code",
   "execution_count": 57,
   "metadata": {},
   "outputs": [
    {
     "data": {
      "text/plain": [
       "True"
      ]
     },
     "execution_count": 57,
     "metadata": {},
     "output_type": "execute_result"
    }
   ],
   "source": [
    "data_type_of_cols_validate = False\n",
    "if (Counter(schema_dict['numerical_columns'])) == (Counter([col for col in train_data.columns if train_data[col].dtype != 'O'])) :\n",
    "    data_type_of_cols_validate=True\n",
    "\n",
    "data_type_of_cols_validate"
   ]
  },
  {
   "cell_type": "code",
   "execution_count": 58,
   "metadata": {},
   "outputs": [
    {
     "data": {
      "text/plain": [
       "False"
      ]
     },
     "execution_count": 58,
     "metadata": {},
     "output_type": "execute_result"
    }
   ],
   "source": [
    "data_type_of_cols_validate = False\n",
    "if (Counter(schema_config['numerical_columns'])) == (Counter([col for col in train_data.columns if train_data[col].dtype != 'O'])) \\\n",
    "    :\n",
    "    data_type_of_cols_validate = True\n",
    "\n",
    "data_type_of_cols_validate"
   ]
  },
  {
   "cell_type": "code",
   "execution_count": 59,
   "metadata": {},
   "outputs": [
    {
     "data": {
      "text/plain": [
       "False"
      ]
     },
     "execution_count": 59,
     "metadata": {},
     "output_type": "execute_result"
    }
   ],
   "source": [
    "data_type_of_cols_validate = False\n",
    "if (Counter(schema_config['numerical_columns'])) == (Counter([col for col in test_data.columns if test_data[col].dtype != 'O'])) :\n",
    "    data_type_of_cols_validate = True\n",
    "\n",
    "data_type_of_cols_validate"
   ]
  },
  {
   "cell_type": "code",
   "execution_count": 60,
   "metadata": {},
   "outputs": [
    {
     "data": {
      "text/plain": [
       "Counter({'longitude': 1,\n",
       "         'latitude': 1,\n",
       "         'housing_median_age': 1,\n",
       "         'total_rooms': 1,\n",
       "         'total_bedrooms': 1,\n",
       "         'population': 1,\n",
       "         'households': 1,\n",
       "         'median_income': 1,\n",
       "         'median_house_value': 1})"
      ]
     },
     "execution_count": 60,
     "metadata": {},
     "output_type": "execute_result"
    }
   ],
   "source": [
    "(Counter([col for col in test_data.columns if test_data[col].dtype != 'O']))"
   ]
  },
  {
   "cell_type": "code",
   "execution_count": 61,
   "metadata": {},
   "outputs": [
    {
     "data": {
      "text/plain": [
       "Counter({'longitude': 1,\n",
       "         'latitude': 1,\n",
       "         'housing_median_age': 1,\n",
       "         'total_rooms': 1,\n",
       "         'total_bedrooms': 1,\n",
       "         'population': 1,\n",
       "         'households': 1,\n",
       "         'median_income': 1})"
      ]
     },
     "execution_count": 61,
     "metadata": {},
     "output_type": "execute_result"
    }
   ],
   "source": [
    "(Counter(schema_config['numerical_columns']))"
   ]
  },
  {
   "cell_type": "code",
   "execution_count": 62,
   "metadata": {},
   "outputs": [
    {
     "data": {
      "text/plain": [
       "True"
      ]
     },
     "execution_count": 62,
     "metadata": {},
     "output_type": "execute_result"
    }
   ],
   "source": [
    "data_type_of_cols_validate = False\n",
    "if  (Counter(schema_config['categorical_columns'])) == (Counter([col for col in train_data.columns if test_data[col].dtype == 'O'])) :\n",
    "    data_type_of_cols_validate = True\n",
    "\n",
    "data_type_of_cols_validate"
   ]
  },
  {
   "cell_type": "code",
   "execution_count": 63,
   "metadata": {},
   "outputs": [
    {
     "data": {
      "text/plain": [
       "True"
      ]
     },
     "execution_count": 63,
     "metadata": {},
     "output_type": "execute_result"
    }
   ],
   "source": [
    "data_type_of_cols_validate = False\n",
    "if (Counter(schema_config['categorical_columns'])) == (Counter([col for col in test_data.columns if test_data[col].dtype == 'O'])):\n",
    "    data_type_of_cols_validate = True\n",
    "\n",
    "data_type_of_cols_validate"
   ]
  },
  {
   "cell_type": "code",
   "execution_count": 64,
   "metadata": {},
   "outputs": [
    {
     "name": "stderr",
     "output_type": "stream",
     "text": [
      "d:\\End_to_End_Project\\Housing_Price_Prediction\\venv\\lib\\site-packages\\evidently\\analyzers\\__init__.py:3: UserWarning: analyzers are deprecated, use metrics instead\n",
      "  warnings.warn(\"analyzers are deprecated, use metrics instead\")\n",
      "d:\\End_to_End_Project\\Housing_Price_Prediction\\venv\\lib\\site-packages\\evidently\\model_profile\\__init__.py:8: UserWarning: model profiles are deprecated, use metrics instead\n",
      "  warnings.warn(\"model profiles are deprecated, use metrics instead\")\n",
      "d:\\End_to_End_Project\\Housing_Price_Prediction\\venv\\lib\\site-packages\\evidently\\dashboard\\__init__.py:8: UserWarning: dashboards are deprecated, use metrics instead\n",
      "  warnings.warn(\"dashboards are deprecated, use metrics instead\")\n"
     ]
    }
   ],
   "source": [
    "from housing.component.data_validation import DataValidation\n",
    "from housing.config.configuration import Configuration\n",
    "\n",
    "from housing.entity.artifact_entity import DataValidationArtifact,DataIngestionArtifact\n",
    "from housing.entity.config_entity import DataIngestionConfig,DataValidationConfig"
   ]
  },
  {
   "cell_type": "code",
   "execution_count": 65,
   "metadata": {},
   "outputs": [
    {
     "ename": "HousingException",
     "evalue": "Python Script :\n    [d:\\end_to_end_project\\housing_price_prediction\\housing\\config\\configuration.py] \n    at try block line number : [19] and exception block line no : [27] \n    error message : \n    [Python Script :\n    [d:\\end_to_end_project\\housing_price_prediction\\housing\\util\\util.py] \n    at try block line number : [20] and exception block line no : [25] \n    error message : \n    [[Errno 2] No such file or directory: 'd:\\\\End_to_End_Project\\\\Housing_Price_Prediction\\\\notebook\\\\config\\\\config.yaml']\n    ]\n    ",
     "output_type": "error",
     "traceback": [
      "\u001b[1;31m---------------------------------------------------------------------------\u001b[0m",
      "\u001b[1;31mFileNotFoundError\u001b[0m                         Traceback (most recent call last)",
      "\u001b[1;32md:\\end_to_end_project\\housing_price_prediction\\housing\\util\\util.py\u001b[0m in \u001b[0;36mread_yaml_file\u001b[1;34m(file_path)\u001b[0m\n\u001b[0;32m     19\u001b[0m     \u001b[1;32mtry\u001b[0m\u001b[1;33m:\u001b[0m\u001b[1;33m\u001b[0m\u001b[0m\n\u001b[1;32m---> 20\u001b[1;33m         \u001b[1;32mwith\u001b[0m \u001b[0mopen\u001b[0m\u001b[1;33m(\u001b[0m\u001b[0mfile_path\u001b[0m\u001b[1;33m,\u001b[0m \u001b[1;34m\"rb\"\u001b[0m\u001b[1;33m)\u001b[0m \u001b[1;32mas\u001b[0m \u001b[0myaml_file\u001b[0m\u001b[1;33m:\u001b[0m\u001b[1;33m\u001b[0m\u001b[0m\n\u001b[0m\u001b[0;32m     21\u001b[0m             \u001b[1;32mreturn\u001b[0m \u001b[0myaml\u001b[0m\u001b[1;33m.\u001b[0m\u001b[0msafe_load\u001b[0m\u001b[1;33m(\u001b[0m\u001b[0myaml_file\u001b[0m\u001b[1;33m)\u001b[0m\u001b[1;33m\u001b[0m\u001b[0m\n",
      "\u001b[1;31mFileNotFoundError\u001b[0m: [Errno 2] No such file or directory: 'd:\\\\End_to_End_Project\\\\Housing_Price_Prediction\\\\notebook\\\\config\\\\config.yaml'",
      "\nDuring handling of the above exception, another exception occurred:\n",
      "\u001b[1;31mHousingException\u001b[0m                          Traceback (most recent call last)",
      "\u001b[1;32md:\\end_to_end_project\\housing_price_prediction\\housing\\config\\configuration.py\u001b[0m in \u001b[0;36m__init__\u001b[1;34m(self, config_file_path, current_time_stamp)\u001b[0m\n\u001b[0;32m     18\u001b[0m         \u001b[1;32mtry\u001b[0m\u001b[1;33m:\u001b[0m\u001b[1;33m\u001b[0m\u001b[0m\n\u001b[1;32m---> 19\u001b[1;33m             \u001b[0mself\u001b[0m\u001b[1;33m.\u001b[0m\u001b[0mconfig_info\u001b[0m \u001b[1;33m=\u001b[0m \u001b[0mread_yaml_file\u001b[0m\u001b[1;33m(\u001b[0m\u001b[0mfile_path\u001b[0m\u001b[1;33m=\u001b[0m\u001b[0mconfig_file_path\u001b[0m\u001b[1;33m)\u001b[0m\u001b[1;33m\u001b[0m\u001b[0m\n\u001b[0m\u001b[0;32m     20\u001b[0m \u001b[1;33m\u001b[0m\u001b[0m\n",
      "\u001b[1;32md:\\end_to_end_project\\housing_price_prediction\\housing\\util\\util.py\u001b[0m in \u001b[0;36mread_yaml_file\u001b[1;34m(file_path)\u001b[0m\n\u001b[0;32m     24\u001b[0m         \u001b[0mlogging\u001b[0m\u001b[1;33m.\u001b[0m\u001b[0minfo\u001b[0m\u001b[1;33m(\u001b[0m\u001b[1;34mf\"Error Occurred at {HousingException(e,sys)}\"\u001b[0m\u001b[1;33m)\u001b[0m\u001b[1;33m\u001b[0m\u001b[0m\n\u001b[1;32m---> 25\u001b[1;33m         \u001b[1;32mraise\u001b[0m \u001b[0mHousingException\u001b[0m\u001b[1;33m(\u001b[0m\u001b[0me\u001b[0m\u001b[1;33m,\u001b[0m \u001b[0msys\u001b[0m\u001b[1;33m)\u001b[0m\u001b[1;33m\u001b[0m\u001b[0m\n\u001b[0m\u001b[0;32m     26\u001b[0m \u001b[1;33m\u001b[0m\u001b[0m\n",
      "\u001b[1;31mHousingException\u001b[0m: Python Script :\n    [d:\\end_to_end_project\\housing_price_prediction\\housing\\util\\util.py] \n    at try block line number : [20] and exception block line no : [25] \n    error message : \n    [[Errno 2] No such file or directory: 'd:\\\\End_to_End_Project\\\\Housing_Price_Prediction\\\\notebook\\\\config\\\\config.yaml']\n    ",
      "\nDuring handling of the above exception, another exception occurred:\n",
      "\u001b[1;31mHousingException\u001b[0m                          Traceback (most recent call last)",
      "\u001b[1;32m~\\AppData\\Local\\Temp\\ipykernel_23048\\457772105.py\u001b[0m in \u001b[0;36m<module>\u001b[1;34m\u001b[0m\n\u001b[1;32m----> 1\u001b[1;33m \u001b[0mdata_validation_config\u001b[0m\u001b[1;33m=\u001b[0m\u001b[0mConfiguration\u001b[0m\u001b[1;33m(\u001b[0m\u001b[1;33m)\u001b[0m\u001b[1;33m.\u001b[0m\u001b[0mget_data_validation_config\u001b[0m\u001b[1;33m(\u001b[0m\u001b[1;33m)\u001b[0m\u001b[1;33m\u001b[0m\u001b[0m\n\u001b[0m\u001b[0;32m      2\u001b[0m \u001b[0mdata_ingestion_artifact\u001b[0m\u001b[1;33m=\u001b[0m\u001b[0mConfiguration\u001b[0m\u001b[1;33m(\u001b[0m\u001b[1;33m)\u001b[0m\u001b[1;33m.\u001b[0m\u001b[0mget_data_validation_config\u001b[0m\u001b[1;33m(\u001b[0m\u001b[1;33m)\u001b[0m\u001b[1;33m\u001b[0m\u001b[0m\n\u001b[0;32m      3\u001b[0m \u001b[1;33m\u001b[0m\u001b[0m\n\u001b[0;32m      4\u001b[0m \u001b[0mval\u001b[0m\u001b[1;33m=\u001b[0m\u001b[0mDataValidation\u001b[0m\u001b[1;33m(\u001b[0m\u001b[1;33m)\u001b[0m\u001b[1;33m\u001b[0m\u001b[0m\n\u001b[0;32m      5\u001b[0m \u001b[0mprint\u001b[0m\u001b[1;33m(\u001b[0m\u001b[0mval\u001b[0m\u001b[1;33m.\u001b[0m\u001b[0minitiate_data_validate\u001b[0m\u001b[1;33m(\u001b[0m\u001b[0mdata_validation_config\u001b[0m\u001b[1;33m,\u001b[0m\u001b[0mdata_ingestion_artifact\u001b[0m\u001b[1;33m)\u001b[0m\u001b[1;33m)\u001b[0m\u001b[1;33m\u001b[0m\u001b[0m\n",
      "\u001b[1;32md:\\end_to_end_project\\housing_price_prediction\\housing\\config\\configuration.py\u001b[0m in \u001b[0;36m__init__\u001b[1;34m(self, config_file_path, current_time_stamp)\u001b[0m\n\u001b[0;32m     25\u001b[0m         \u001b[1;32mexcept\u001b[0m \u001b[0mException\u001b[0m \u001b[1;32mas\u001b[0m \u001b[0me\u001b[0m\u001b[1;33m:\u001b[0m\u001b[1;33m\u001b[0m\u001b[0m\n\u001b[0;32m     26\u001b[0m             \u001b[0mlogging\u001b[0m\u001b[1;33m.\u001b[0m\u001b[0minfo\u001b[0m\u001b[1;33m(\u001b[0m\u001b[1;34mf\"Error Occurred at {HousingException(e,sys)}\"\u001b[0m\u001b[1;33m)\u001b[0m\u001b[1;33m\u001b[0m\u001b[0m\n\u001b[1;32m---> 27\u001b[1;33m             \u001b[1;32mraise\u001b[0m \u001b[0mHousingException\u001b[0m\u001b[1;33m(\u001b[0m\u001b[0me\u001b[0m\u001b[1;33m,\u001b[0m \u001b[0msys\u001b[0m\u001b[1;33m)\u001b[0m\u001b[1;33m\u001b[0m\u001b[0m\n\u001b[0m\u001b[0;32m     28\u001b[0m \u001b[1;33m\u001b[0m\u001b[0m\n\u001b[0;32m     29\u001b[0m     \u001b[1;32mdef\u001b[0m \u001b[0mget_training_pipeline_config\u001b[0m\u001b[1;33m(\u001b[0m\u001b[0mself\u001b[0m\u001b[1;33m)\u001b[0m \u001b[1;33m->\u001b[0m \u001b[0mTrainingPipelineConfig\u001b[0m\u001b[1;33m:\u001b[0m\u001b[1;33m\u001b[0m\u001b[0m\n",
      "\u001b[1;31mHousingException\u001b[0m: Python Script :\n    [d:\\end_to_end_project\\housing_price_prediction\\housing\\config\\configuration.py] \n    at try block line number : [19] and exception block line no : [27] \n    error message : \n    [Python Script :\n    [d:\\end_to_end_project\\housing_price_prediction\\housing\\util\\util.py] \n    at try block line number : [20] and exception block line no : [25] \n    error message : \n    [[Errno 2] No such file or directory: 'd:\\\\End_to_End_Project\\\\Housing_Price_Prediction\\\\notebook\\\\config\\\\config.yaml']\n    ]\n    "
     ]
    }
   ],
   "source": [
    "data_validation_config=Configuration().get_data_validation_config()\n",
    "data_ingestion_artifact=Configuration().get_data_validation_config()\n",
    "\n",
    "val=DataValidation()\n",
    "print(val.initiate_data_validate(data_validation_config,data_ingestion_artifact))"
   ]
  },
  {
   "cell_type": "code",
   "execution_count": null,
   "metadata": {},
   "outputs": [
    {
     "data": {
      "text/plain": [
       "['longitude',\n",
       " 'latitude',\n",
       " 'housing_median_age',\n",
       " 'total_rooms',\n",
       " 'total_bedrooms',\n",
       " 'population',\n",
       " 'households',\n",
       " 'median_income',\n",
       " 'median_house_value']"
      ]
     },
     "execution_count": 84,
     "metadata": {},
     "output_type": "execute_result"
    }
   ],
   "source": [
    "schema_dict['numerical_columns']"
   ]
  },
  {
   "cell_type": "code",
   "execution_count": null,
   "metadata": {},
   "outputs": [
    {
     "data": {
      "text/plain": [
       "['longitude',\n",
       " 'latitude',\n",
       " 'housing_median_age',\n",
       " 'total_rooms',\n",
       " 'total_bedrooms',\n",
       " 'population',\n",
       " 'households',\n",
       " 'median_income',\n",
       " 'median_house_value']"
      ]
     },
     "execution_count": 85,
     "metadata": {},
     "output_type": "execute_result"
    }
   ],
   "source": [
    "[col for col in train_data.columns if train_data[col].dtype != 'O']"
   ]
  },
  {
   "cell_type": "code",
   "execution_count": null,
   "metadata": {},
   "outputs": [
    {
     "data": {
      "text/plain": [
       "True"
      ]
     },
     "execution_count": 31,
     "metadata": {},
     "output_type": "execute_result"
    }
   ],
   "source": [
    "is_target_column_avilable"
   ]
  },
  {
   "cell_type": "code",
   "execution_count": null,
   "metadata": {},
   "outputs": [
    {
     "data": {
      "text/plain": [
       "{'columns': {'longitude': 'float64',\n",
       "  'latitude': 'float64',\n",
       "  'housing_median_age': 'float64',\n",
       "  'total_rooms': 'float64',\n",
       "  'total_bedrooms': 'float64',\n",
       "  'population': 'float64',\n",
       "  'households': 'float64',\n",
       "  'median_income': 'float64',\n",
       "  'ocean_proximity': 'object'},\n",
       " 'target_column': 'median_house_value',\n",
       " 'domain_value': {'ocean_proximity': ['NEAR OCEAN',\n",
       "   '<1H OCEAN',\n",
       "   'INLAND',\n",
       "   'NEAR BAY',\n",
       "   'ISLAND']}}"
      ]
     },
     "execution_count": 17,
     "metadata": {},
     "output_type": "execute_result"
    }
   ],
   "source": [
    "schema_dict_test"
   ]
  },
  {
   "cell_type": "code",
   "execution_count": null,
   "metadata": {},
   "outputs": [],
   "source": []
  },
  {
   "cell_type": "code",
   "execution_count": null,
   "metadata": {},
   "outputs": [
    {
     "ename": "AttributeError",
     "evalue": "'dict' object has no attribute 'columns'",
     "output_type": "error",
     "traceback": [
      "\u001b[0;31m---------------------------------------------------------------------------\u001b[0m",
      "\u001b[0;31mAttributeError\u001b[0m                            Traceback (most recent call last)",
      "\u001b[0;32m/tmp/ipykernel_13483/1443736947.py\u001b[0m in \u001b[0;36m<module>\u001b[0;34m\u001b[0m\n\u001b[0;32m----> 1\u001b[0;31m \u001b[0mschema_config\u001b[0m\u001b[0;34m.\u001b[0m\u001b[0mcolumns\u001b[0m\u001b[0;34m.\u001b[0m\u001b[0mkeys\u001b[0m\u001b[0;34m\u001b[0m\u001b[0;34m\u001b[0m\u001b[0m\n\u001b[0m",
      "\u001b[0;31mAttributeError\u001b[0m: 'dict' object has no attribute 'columns'"
     ]
    }
   ],
   "source": []
  },
  {
   "cell_type": "code",
   "execution_count": null,
   "metadata": {},
   "outputs": [
    {
     "data": {
      "text/plain": [
       "{'columns': {'longitude': 'float64',\n",
       "  'latitude': 'float64',\n",
       "  'housing_median_age': 'float64',\n",
       "  'total_rooms': 'float64',\n",
       "  'total_bedrooms': 'float64',\n",
       "  'population': 'float64',\n",
       "  'households': 'float64',\n",
       "  'median_income': 'float64',\n",
       "  'ocean_proximity': 'object'},\n",
       " 'target_column': 'median_house_value',\n",
       " 'domain_value': {'ocean_proximity': ['<1H OCEAN',\n",
       "   'NEAR BAY',\n",
       "   'INLAND',\n",
       "   'NEAR OCEAN',\n",
       "   'ISLAND']}}"
      ]
     },
     "execution_count": 18,
     "metadata": {},
     "output_type": "execute_result"
    }
   ],
   "source": [
    "schema_dict_train"
   ]
  },
  {
   "cell_type": "code",
   "execution_count": null,
   "metadata": {},
   "outputs": [
    {
     "data": {
      "text/plain": [
       "False"
      ]
     },
     "execution_count": 20,
     "metadata": {},
     "output_type": "execute_result"
    }
   ],
   "source": [
    "schema_dict_train  == schema_dict_test"
   ]
  },
  {
   "cell_type": "code",
   "execution_count": null,
   "metadata": {},
   "outputs": [],
   "source": [
    "from housing.component.data_validation import DataValidation"
   ]
  },
  {
   "cell_type": "code",
   "execution_count": null,
   "metadata": {},
   "outputs": [
    {
     "ename": "TypeError",
     "evalue": "__init__() missing 2 required positional arguments: 'data_validation_config' and 'data_ingestion_artifact'",
     "output_type": "error",
     "traceback": [
      "\u001b[0;31m---------------------------------------------------------------------------\u001b[0m",
      "\u001b[0;31mTypeError\u001b[0m                                 Traceback (most recent call last)",
      "\u001b[0;32m/tmp/ipykernel_48223/657747545.py\u001b[0m in \u001b[0;36m<module>\u001b[0;34m\u001b[0m\n\u001b[0;32m----> 1\u001b[0;31m \u001b[0ma\u001b[0m\u001b[0;34m=\u001b[0m\u001b[0mDataValidation\u001b[0m\u001b[0;34m(\u001b[0m\u001b[0;34m)\u001b[0m\u001b[0;34m\u001b[0m\u001b[0;34m\u001b[0m\u001b[0m\n\u001b[0m",
      "\u001b[0;31mTypeError\u001b[0m: __init__() missing 2 required positional arguments: 'data_validation_config' and 'data_ingestion_artifact'"
     ]
    }
   ],
   "source": [
    "a=DataValidation(Da)"
   ]
  },
  {
   "cell_type": "code",
   "execution_count": null,
   "metadata": {},
   "outputs": [],
   "source": []
  },
  {
   "cell_type": "code",
   "execution_count": null,
   "metadata": {},
   "outputs": [],
   "source": []
  },
  {
   "cell_type": "code",
   "execution_count": null,
   "metadata": {},
   "outputs": [
    {
     "data": {
      "text/plain": [
       "{'values_changed': {\"root['domain_value']['ocean_proximity'][0]\": {'new_value': 'NEAR OCEAN',\n",
       "   'old_value': '<1H OCEAN'},\n",
       "  \"root['domain_value']['ocean_proximity'][1]\": {'new_value': '<1H OCEAN',\n",
       "   'old_value': 'NEAR BAY'},\n",
       "  \"root['domain_value']['ocean_proximity'][3]\": {'new_value': 'NEAR BAY',\n",
       "   'old_value': 'NEAR OCEAN'}}}"
      ]
     },
     "execution_count": 22,
     "metadata": {},
     "output_type": "execute_result"
    }
   ],
   "source": [
    "DeepDiff(schema_dict_train,schema_dict_test)"
   ]
  },
  {
   "cell_type": "code",
   "execution_count": null,
   "metadata": {},
   "outputs": [
    {
     "ename": "NameError",
     "evalue": "name 'schema_config' is not defined",
     "output_type": "error",
     "traceback": [
      "\u001b[0;31m---------------------------------------------------------------------------\u001b[0m",
      "\u001b[0;31mNameError\u001b[0m                                 Traceback (most recent call last)",
      "\u001b[0;32m/tmp/ipykernel_13483/2532585292.py\u001b[0m in \u001b[0;36m<module>\u001b[0;34m\u001b[0m\n\u001b[0;32m----> 1\u001b[0;31m \u001b[0mschema_config\u001b[0m\u001b[0;34m\u001b[0m\u001b[0;34m\u001b[0m\u001b[0m\n\u001b[0m",
      "\u001b[0;31mNameError\u001b[0m: name 'schema_config' is not defined"
     ]
    }
   ],
   "source": [
    "schema_config"
   ]
  },
  {
   "cell_type": "code",
   "execution_count": null,
   "metadata": {},
   "outputs": [],
   "source": [
    "d={\n",
    "    \"Brute\":[1,2,3,4,5,6],\n",
    "    \"Radical\":[4,2,6,4,8,7,6,9,4,9,74],\n",
    "    \"Hitter\":[64646,46,65]\n",
    "}"
   ]
  },
  {
   "cell_type": "code",
   "execution_count": null,
   "metadata": {},
   "outputs": [],
   "source": [
    "import pandas as pd"
   ]
  },
  {
   "cell_type": "code",
   "execution_count": null,
   "metadata": {},
   "outputs": [],
   "source": [
    "df=pd.read_csv(r'C:\\Users\\viral\\Desktop\\1.csv')"
   ]
  },
  {
   "cell_type": "code",
   "execution_count": 1,
   "metadata": {},
   "outputs": [
    {
     "ename": "NameError",
     "evalue": "name 'df' is not defined",
     "output_type": "error",
     "traceback": [
      "\u001b[1;31m---------------------------------------------------------------------------\u001b[0m",
      "\u001b[1;31mNameError\u001b[0m                                 Traceback (most recent call last)",
      "\u001b[1;32m~\\AppData\\Local\\Temp\\ipykernel_27000\\969225006.py\u001b[0m in \u001b[0;36m<module>\u001b[1;34m\u001b[0m\n\u001b[1;32m----> 1\u001b[1;33m \u001b[0md_new\u001b[0m \u001b[1;33m=\u001b[0m \u001b[0mdf\u001b[0m\u001b[1;33m.\u001b[0m\u001b[0mto_dict\u001b[0m\u001b[1;33m(\u001b[0m\u001b[0morient\u001b[0m\u001b[1;33m=\u001b[0m\u001b[1;34m\"list\"\u001b[0m\u001b[1;33m,\u001b[0m\u001b[1;33m)\u001b[0m\u001b[1;33m\u001b[0m\u001b[0m\n\u001b[0m\u001b[0;32m      2\u001b[0m \u001b[1;33m\u001b[0m\u001b[0m\n\u001b[0;32m      3\u001b[0m \u001b[0mprint\u001b[0m\u001b[1;33m(\u001b[0m\u001b[0md_new\u001b[0m\u001b[1;33m)\u001b[0m\u001b[1;33m\u001b[0m\u001b[0m\n",
      "\u001b[1;31mNameError\u001b[0m: name 'df' is not defined"
     ]
    }
   ],
   "source": [
    "d_new = df.to_dict(orient=\"list\",)\n",
    "\n",
    "print(d_new)\n"
   ]
  },
  {
   "cell_type": "code",
   "execution_count": 2,
   "metadata": {},
   "outputs": [],
   "source": [
    "import importlib"
   ]
  },
  {
   "cell_type": "markdown",
   "metadata": {},
   "source": []
  },
  {
   "cell_type": "code",
   "execution_count": 3,
   "metadata": {},
   "outputs": [],
   "source": [
    "def class_for_name(module_name:str, class_name:str):\n",
    "        # load the module, will raise ImportError if module cannot be loaded\n",
    "        module = importlib.import_module(module_name)\n",
    "        # get the class, will raise AttributeError if class cannot be found\n",
    "        # logging.info(f\"Executing command: from {module} import {class_name}\")\n",
    "        class_ref = getattr(module,class_name)\n",
    "        return class_ref"
   ]
  },
  {
   "cell_type": "code",
   "execution_count": 4,
   "metadata": {},
   "outputs": [],
   "source": [
    "a=class_for_name('sklearn.tree','DecisionTreeRegressor')"
   ]
  },
  {
   "cell_type": "code",
   "execution_count": 1,
   "metadata": {},
   "outputs": [],
   "source": [
    "import yaml\n",
    "GRID_SEARCH_KEY = 'grid_search'\n",
    "MODULE_KEY = 'module'\n",
    "CLASS_KEY = 'class'\n",
    "PARAM_KEY = 'params'\n",
    "MODEL_SELECTION_KEY = 'model_selection'\n",
    "SEARCH_PARAM_GRID_KEY = \"search_param_grid\""
   ]
  },
  {
   "cell_type": "code",
   "execution_count": 2,
   "metadata": {},
   "outputs": [],
   "source": [
    "def read_params(config_path: str) -> dict:\n",
    "    with open(config_path) as yaml_file:\n",
    "        config:dict = yaml.safe_load(yaml_file)\n",
    "    return config"
   ]
  },
  {
   "cell_type": "code",
   "execution_count": 4,
   "metadata": {},
   "outputs": [],
   "source": [
    "config= read_params('/home/admin/Desktop/project_task_extra/Project/Housing_Price_Prediction/config/model.yaml')"
   ]
  },
  {
   "cell_type": "code",
   "execution_count": 16,
   "metadata": {},
   "outputs": [],
   "source": [
    "d=config['model_selection']"
   ]
  },
  {
   "cell_type": "code",
   "execution_count": 2,
   "metadata": {},
   "outputs": [
    {
     "name": "stdout",
     "output_type": "stream",
     "text": [
      "GradientBoostingRegressor()\n"
     ]
    }
   ],
   "source": [
    "import sklearn.ensemble as ensemble\n",
    "\n",
    "model = ensemble.GradientBoostingRegressor()\n",
    "\n",
    "print(str(model))\n"
   ]
  },
  {
   "cell_type": "code",
   "execution_count": 26,
   "metadata": {},
   "outputs": [
    {
     "data": {
      "text/plain": [
       "{'class': 'LinearRegression',\n",
       " 'module': 'sklearn.linear_model',\n",
       " 'params': {'fit_intercept': True},\n",
       " 'search_param_grid': {'fit_intercept': [True, False]}}"
      ]
     },
     "execution_count": 26,
     "metadata": {},
     "output_type": "execute_result"
    }
   ],
   "source": [
    "d['module_0']"
   ]
  },
  {
   "cell_type": "code",
   "execution_count": 24,
   "metadata": {},
   "outputs": [
    {
     "data": {
      "text/plain": [
       "{'fit_intercept': [True, False]}"
      ]
     },
     "execution_count": 24,
     "metadata": {},
     "output_type": "execute_result"
    }
   ],
   "source": [
    "d['module_0']['search_param_grid']"
   ]
  },
  {
   "cell_type": "code",
   "execution_count": 7,
   "metadata": {},
   "outputs": [],
   "source": [
    "grid_search_property_data= dict(config[MODEL_SELECTION_KEY])"
   ]
  },
  {
   "cell_type": "code",
   "execution_count": 8,
   "metadata": {},
   "outputs": [
    {
     "data": {
      "text/plain": [
       "{'module_0': {'class': 'LinearRegression',\n",
       "  'module': 'sklearn.linear_model',\n",
       "  'params': {'fit_intercept': True},\n",
       "  'search_param_grid': {'fit_intercept': [True, False]}},\n",
       " 'module_1': {'class': 'Ridge',\n",
       "  'module': 'sklearn.linear_model',\n",
       "  'params': {'fit_intercept': True, 'alpha': 1.0},\n",
       "  'search_param_grid': {'fit_intercept': [True, False],\n",
       "   'alpha': [0.05, 0.1, 0.2, 0.5, 0.75, 1],\n",
       "   'solver': ['auto', 'svd', 'lbfgs']}},\n",
       " 'module_2': {'class': 'Lasso',\n",
       "  'module': 'sklearn.linear_model',\n",
       "  'params': {'fit_intercept': True,\n",
       "   'alpha': 1.0,\n",
       "   'warm_start': True,\n",
       "   'selection': 'random'},\n",
       "  'search_param_grid': {'alpha': [0.05, 0.1, 0.2, 0.5, 0.75, 1],\n",
       "   'warm_star': [True, False],\n",
       "   'selection': ['random', 'cyclic']}},\n",
       " 'module_3': {'class': 'DecisionTreeRegressor',\n",
       "  'module': 'sklearn.tree',\n",
       "  'params': {'criterion': 'squared_error',\n",
       "   'max_depth': 3,\n",
       "   'min_samples_leaf': 2,\n",
       "   'max_features': 'auto',\n",
       "   'max_leaf_nodes': 2},\n",
       "  'search_param_grid': {'criterion': ['squared_error',\n",
       "    'friedman_mse',\n",
       "    'absolute_error',\n",
       "    'poisson'],\n",
       "   'max_depth': [3, 4, 5, 6],\n",
       "   'min_samples_leaf': [1, 2, 3, 4],\n",
       "   'max_features': ['auto', 'sqrt', 'log2'],\n",
       "   'max_leaf_nodes': [1, 2, 3]}},\n",
       " 'module_4': {'class': 'RandomForestRegressor',\n",
       "  'module': 'sklearn.ensemble',\n",
       "  'params': {'n_estimators': 50,\n",
       "   'n_jobs': -1,\n",
       "   'criterion': 'squared_error',\n",
       "   'max_depth': 3,\n",
       "   'min_samples_leaf': 2,\n",
       "   'max_features': 'auto',\n",
       "   'max_leaf_nodes': 2},\n",
       "  'search_param_grid': {'criterion': ['squared_error',\n",
       "    'friedman_mse',\n",
       "    'absolute_error',\n",
       "    'poisson'],\n",
       "   'max_depth': [3, 4, 5, 6],\n",
       "   'min_samples_leaf': [1, 2, 3, 4],\n",
       "   'max_features': ['auto', 'sqrt', 'log2'],\n",
       "   'max_leaf_nodes': [1, 2, 3],\n",
       "   'oob_score': [True, False],\n",
       "   'n_estimators': [100, 150, 175]}},\n",
       " 'module_5': {'class': 'AdaBoostRegressor',\n",
       "  'module': 'sklearn.ensemble',\n",
       "  'params': {'n_estimators': 100, 'loss': 'linear', 'learning_rate': 1.0},\n",
       "  'search_param_grid': {'n_estimators': [100, 150, 175],\n",
       "   'loss': ['linear', 'square', 'exponential'],\n",
       "   'learning_rate': [0.05, 0.1, 0.5, 0.75]}},\n",
       " 'module_6': {'class': 'GradientBoostingRegressor',\n",
       "  'module': 'sklearn.ensemble',\n",
       "  'params': {'n_estimators': 100,\n",
       "   'loss': 'squared_error',\n",
       "   'criterion': 'friedman_mse',\n",
       "   'min_samples_leaf': 1,\n",
       "   'max_depth': 4},\n",
       "  'search_param_grid': {'criterion': ['squared_error', 'friedman_mse'],\n",
       "   'n_estimators': [100, 150, 175],\n",
       "   'loss': ['squared_error', 'absolute_error', 'huber', 'quantile'],\n",
       "   'min_samples_leaf': [1, 2, 3, 4],\n",
       "   'max_depth': [3, 4, 5, 6]}}}"
      ]
     },
     "execution_count": 8,
     "metadata": {},
     "output_type": "execute_result"
    }
   ],
   "source": [
    "grid_search_property_data"
   ]
  },
  {
   "cell_type": "code",
   "execution_count": 10,
   "metadata": {},
   "outputs": [],
   "source": [
    "from housing.logger.logger import logging"
   ]
  },
  {
   "cell_type": "code",
   "execution_count": 11,
   "metadata": {},
   "outputs": [],
   "source": [
    "def update_property_of_class(instance_ref: object, property_data: dict):\n",
    "    if not isinstance(property_data, dict):\n",
    "        raise Exception(\n",
    "            \"property_data parameter required to dictionary\")\n",
    "    print(property_data)\n",
    "    for key, value in property_data.items():\n",
    "        logging.info(f\"Executing:$ {str(instance_ref)}.{key}={value}\")\n",
    "        setattr(instance_ref,key,value)\n",
    "    return instance_ref"
   ]
  },
  {
   "cell_type": "code",
   "execution_count": 12,
   "metadata": {},
   "outputs": [
    {
     "name": "stdout",
     "output_type": "stream",
     "text": [
      "{'cv': 5, 'verbose': 2}\n"
     ]
    }
   ],
   "source": [
    "b = update_property_of_class(a,grid_search_property_data)"
   ]
  },
  {
   "cell_type": "code",
   "execution_count": 13,
   "metadata": {},
   "outputs": [
    {
     "data": {
      "text/plain": [
       "2"
      ]
     },
     "execution_count": 13,
     "metadata": {},
     "output_type": "execute_result"
    }
   ],
   "source": [
    "getattr(b,'verbose')"
   ]
  },
  {
   "cell_type": "code",
   "execution_count": null,
   "metadata": {},
   "outputs": [],
   "source": []
  }
 ],
 "metadata": {
  "kernelspec": {
   "display_name": "Python 3",
   "language": "python",
   "name": "python3"
  },
  "language_info": {
   "codemirror_mode": {
    "name": "ipython",
    "version": 3
   },
   "file_extension": ".py",
   "mimetype": "text/x-python",
   "name": "python",
   "nbconvert_exporter": "python",
   "pygments_lexer": "ipython3",
   "version": "3.7.13"
  },
  "orig_nbformat": 4
 },
 "nbformat": 4,
 "nbformat_minor": 2
}
